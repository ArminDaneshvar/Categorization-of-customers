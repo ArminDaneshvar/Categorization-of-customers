{
 "cells": [
  {
   "cell_type": "code",
   "execution_count": 18,
   "id": "a7e1852b-874e-47af-9e7c-2596087975d2",
   "metadata": {},
   "outputs": [],
   "source": [
    "import numpy as np\n",
    "import pandas as pd\n",
    "import matplotlib.pyplot as plt\n",
    "from sklearn.cluster import KMeans\n",
    "from sklearn import preprocessing\n",
    "from mpl_toolkits.mplot3d import Axes3D\n",
    "from sklearn.cluster import AgglomerativeClustering\n",
    "from scipy.cluster.hierarchy import dendrogram\n",
    "from sklearn.datasets import load_iris\n",
    "from sklearn.cluster import AgglomerativeClustering\n",
    "from sklearn.cluster import DBSCAN"
   ]
  },
  {
   "cell_type": "code",
   "execution_count": 19,
   "id": "b8e265e5-18e3-4be4-8416-6c60c1670bb1",
   "metadata": {},
   "outputs": [],
   "source": [
    "df=pd.read_csv('Clustering.csv')\n",
    "xx=df.replace(to_replace=['Male', 'Female'], value=[0, 1])"
   ]
  },
  {
   "cell_type": "code",
   "execution_count": 20,
   "id": "cec32609-2cfa-481e-b7fd-c093a88985e2",
   "metadata": {},
   "outputs": [],
   "source": [
    "x=xx[['Gender','Age','Annual Income (k$)', 'Spending Score (1-100)']].values\n",
    "scaler = preprocessing.StandardScaler().fit(x).transform(x.astype(float))\n",
    "xxx=xx[['Age']]\n",
    "yyy=xx[['Annual Income (k$)']]\n",
    "zzz=xx[['Spending Score (1-100)']]"
   ]
  },
  {
   "cell_type": "code",
   "execution_count": 21,
   "id": "c019c131-d026-4a69-8a6f-cf0531b5f606",
   "metadata": {},
   "outputs": [],
   "source": [
    "clustering = DBSCAN(eps=10, min_samples=2).fit(x)\n",
    "labels=clustering.labels_"
   ]
  },
  {
   "cell_type": "code",
   "execution_count": 27,
   "id": "2e9a03ab-7204-4c74-9a7f-537008ea9b51",
   "metadata": {},
   "outputs": [
    {
     "ename": "NameError",
     "evalue": "name 'n_clusters_' is not defined",
     "output_type": "error",
     "traceback": [
      "\u001b[1;31m---------------------------------------------------------------------------\u001b[0m",
      "\u001b[1;31mNameError\u001b[0m                                 Traceback (most recent call last)",
      "Input \u001b[1;32mIn [27]\u001b[0m, in \u001b[0;36m<cell line: 33>\u001b[1;34m()\u001b[0m\n\u001b[0;32m     23\u001b[0m     xy \u001b[38;5;241m=\u001b[39m x[class_member_mask \u001b[38;5;241m&\u001b[39m \u001b[38;5;241m~\u001b[39mcore_samples_mask]\n\u001b[0;32m     24\u001b[0m     plt\u001b[38;5;241m.\u001b[39mplot(\n\u001b[0;32m     25\u001b[0m         xy[:, \u001b[38;5;241m0\u001b[39m],\n\u001b[0;32m     26\u001b[0m         xy[:, \u001b[38;5;241m1\u001b[39m],\n\u001b[1;32m   (...)\u001b[0m\n\u001b[0;32m     30\u001b[0m         markersize\u001b[38;5;241m=\u001b[39m\u001b[38;5;241m6\u001b[39m,\n\u001b[0;32m     31\u001b[0m     )\n\u001b[1;32m---> 33\u001b[0m plt\u001b[38;5;241m.\u001b[39mtitle(\u001b[38;5;124mf\u001b[39m\u001b[38;5;124m\"\u001b[39m\u001b[38;5;124mEstimated number of clusters: \u001b[39m\u001b[38;5;132;01m{\u001b[39;00mn_clusters_\u001b[38;5;132;01m}\u001b[39;00m\u001b[38;5;124m\"\u001b[39m)\n\u001b[0;32m     34\u001b[0m plt\u001b[38;5;241m.\u001b[39mshow()\n",
      "\u001b[1;31mNameError\u001b[0m: name 'n_clusters_' is not defined"
     ]
    },
    {
     "data": {
      "image/png": "[encoded data removed]",
      "text/plain": [
       "<Figure size 432x288 with 1 Axes>"
      ]
     },
     "metadata": {
      "needs_background": "light"
     },
     "output_type": "display_data"
    }
   ],
   "source": [
    "unique_labels = set(labels)\n",
    "core_samples_mask = np.zeros_like(labels, dtype=bool)\n",
    "core_samples_mask[clustering.core_sample_indices_] = True\n",
    "\n",
    "colors = [plt.cm.Spectral(each) for each in np.linspace(0, 1, len(unique_labels))]\n",
    "for k, col in zip(unique_labels, colors):\n",
    "    if k == -1:\n",
    "        # Black used for noise.\n",
    "        col = [0, 0, 0, 1]\n",
    "\n",
    "    class_member_mask = labels == k\n",
    "\n",
    "    xy = x[class_member_mask & core_samples_mask]\n",
    "    plt.plot(\n",
    "        xy[:, 0],\n",
    "        xy[:, 1],\n",
    "        \"o\",\n",
    "        markerfacecolor=tuple(col),\n",
    "        markeredgecolor=\"k\",\n",
    "        markersize=14,\n",
    "    )\n",
    "\n",
    "    xy = x[class_member_mask & ~core_samples_mask]\n",
    "    plt.plot(\n",
    "        xy[:, 0],\n",
    "        xy[:, 1],\n",
    "        \"o\",\n",
    "        markerfacecolor=tuple(col),\n",
    "        markeredgecolor=\"k\",\n",
    "        markersize=6,\n",
    "    )\n",
    "\n",
    "plt.title(f\"Estimated number of clusters: {n_clusters_}\")\n",
    "plt.show()"
   ]
  },
  {
   "cell_type": "code",
   "execution_count": null,
   "id": "913ff5f0-cd2a-40a7-942b-9ff3cf882e25",
   "metadata": {},
   "outputs": [],
   "source": []
  },
  {
   "cell_type": "code",
   "execution_count": null,
   "id": "ba83b7f1-11f3-40c6-bed9-f9402eed466f",
   "metadata": {},
   "outputs": [],
   "source": []
  }
 ],
 "metadata": {
  "kernelspec": {
   "display_name": "Python 3 (ipykernel)",
   "language": "python",
   "name": "python3"
  },
  "language_info": {
   "codemirror_mode": {
    "name": "ipython",
    "version": 3
   },
   "file_extension": ".py",
   "mimetype": "text/x-python",
   "name": "python",
   "nbconvert_exporter": "python",
   "pygments_lexer": "ipython3",
   "version": "3.9.12"
  }
 },
 "nbformat": 4,
 "nbformat_minor": 5
}
